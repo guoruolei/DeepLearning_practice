{
 "cells": [
  {
   "cell_type": "code",
   "execution_count": 1,
   "metadata": {},
   "outputs": [],
   "source": [
    "import pandas as pd\n",
    "import numpy as np"
   ]
  },
  {
   "cell_type": "code",
   "execution_count": 2,
   "metadata": {},
   "outputs": [],
   "source": [
    "import matplotlib\n",
    "import matplotlib.pyplot as plt\n",
    "% matplotlib inline"
   ]
  },
  {
   "cell_type": "code",
   "execution_count": 3,
   "metadata": {},
   "outputs": [],
   "source": [
    "X = np.load(\"X.npy\")[:150000]\n",
    "y = np.load(\"y.npy\")[:150000]"
   ]
  },
  {
   "cell_type": "code",
   "execution_count": 4,
   "metadata": {},
   "outputs": [
    {
     "data": {
      "text/plain": [
       "(150000, 39)"
      ]
     },
     "execution_count": 4,
     "metadata": {},
     "output_type": "execute_result"
    }
   ],
   "source": [
    "X.shape"
   ]
  },
  {
   "cell_type": "code",
   "execution_count": 5,
   "metadata": {},
   "outputs": [
    {
     "data": {
      "text/plain": [
       "(10000, 140000)"
      ]
     },
     "execution_count": 5,
     "metadata": {},
     "output_type": "execute_result"
    }
   ],
   "source": [
    "w1, w0 = len(y[y==1]), len(y[y==0])\n",
    "w1, w0"
   ]
  },
  {
   "cell_type": "code",
   "execution_count": 6,
   "metadata": {},
   "outputs": [
    {
     "data": {
      "text/plain": [
       "0.9285714285714286"
      ]
     },
     "execution_count": 6,
     "metadata": {},
     "output_type": "execute_result"
    }
   ],
   "source": [
    "1-w1/w0"
   ]
  },
  {
   "cell_type": "code",
   "execution_count": 7,
   "metadata": {},
   "outputs": [],
   "source": [
    "w=y.copy().astype(float)\n",
    "n=float(1.3)\n",
    "w[y==1] = (w0*n)/(w0*n+w1)\n",
    "w[y==0] = w1/(w0*n+w1)"
   ]
  },
  {
   "cell_type": "code",
   "execution_count": 8,
   "metadata": {},
   "outputs": [
    {
     "data": {
      "text/plain": [
       "39"
      ]
     },
     "execution_count": 8,
     "metadata": {},
     "output_type": "execute_result"
    }
   ],
   "source": [
    "col_names = np.load(\"col_names.npy\")\n",
    "len(col_names)"
   ]
  },
  {
   "cell_type": "code",
   "execution_count": 9,
   "metadata": {},
   "outputs": [
    {
     "data": {
      "text/plain": [
       "array(['POR1_A3ES1_AMP', 'POR1_A3ES1_V2', 'POR1_A3ES1_V3',\n",
       "       'POR1_A3ES1SCREW_RPM', 'Q11_AD1_RTD2', 'Q11_KB_PT2',\n",
       "       'Q11_2WA1A_PV', 'Q11_2WA1A_SP', 'Q11_2WA1A_WEI', 'Q11_2WB1_PV',\n",
       "       'Q11_2WB1_SP', 'Q11_2WB1_WEI', 'Q11_2WS1_PV', 'Q11_2WS1_SP_NEW',\n",
       "       'Q11_2WS1_WEI', 'Q11_1C_PV', 'Q11_1C_SP', 'Q11_1D_PV', 'Q11_1D_SP',\n",
       "       'Q11_1H_PV', 'Q11_1H_SP', 'Q11_2C_PV', 'Q11_2C_SP', 'Q11_2D_PV',\n",
       "       'Q11_2D_SP', 'Q11_3C_PV', 'Q11_3C_SP', 'Q11_3D_PV', 'Q11_3D_SP',\n",
       "       'Q11_4C_PV', 'Q11_4C_SP', 'Q11_5C_PV', 'Q11_5C_SP', 'Q11_6C_PV',\n",
       "       'Q11_6C_SP', 'Q11_7C_PV', 'Q11_7C_SP', 'Q11_8C_PV', 'Q11_8C_SP'],\n",
       "      dtype=object)"
      ]
     },
     "execution_count": 9,
     "metadata": {},
     "output_type": "execute_result"
    }
   ],
   "source": [
    "col_names"
   ]
  },
  {
   "cell_type": "markdown",
   "metadata": {},
   "source": [
    "# Data Prepross"
   ]
  },
  {
   "cell_type": "code",
   "execution_count": 10,
   "metadata": {},
   "outputs": [],
   "source": [
    "# fill missing value\n",
    "for c in range(X.shape[1]):\n",
    "    if np.isnan(X[:,c]).any():\n",
    "        if np.isnan(X[:,c]).all():\n",
    "            X[:,c][np.isnan(X[:,c])] = 0\n",
    "            #print (c, 0)\n",
    "        else:\n",
    "            m = np.median(X[:,c][~np.isnan(X[:,c])])\n",
    "            X[:,c][np.isnan(X[:,c])] = m\n",
    "            #print (c, m)\n",
    "        "
   ]
  },
  {
   "cell_type": "code",
   "execution_count": 11,
   "metadata": {},
   "outputs": [
    {
     "data": {
      "text/plain": [
       "(300, 500, 39)"
      ]
     },
     "execution_count": 11,
     "metadata": {},
     "output_type": "execute_result"
    }
   ],
   "source": [
    "steps = 500\n",
    "X_ = []\n",
    "for i in range(0,X.shape[0],steps):\n",
    "    X_.append(X[i:i+steps,:])\n",
    "X_ = np.array(X_)\n",
    "X_.shape    "
   ]
  },
  {
   "cell_type": "code",
   "execution_count": 12,
   "metadata": {},
   "outputs": [
    {
     "data": {
      "text/plain": [
       "(300,)"
      ]
     },
     "execution_count": 12,
     "metadata": {},
     "output_type": "execute_result"
    }
   ],
   "source": [
    "y_ = y.astype(int)[::steps]\n",
    "y_.shape"
   ]
  },
  {
   "cell_type": "code",
   "execution_count": 13,
   "metadata": {},
   "outputs": [],
   "source": [
    "from sklearn.model_selection import train_test_split"
   ]
  },
  {
   "cell_type": "code",
   "execution_count": 14,
   "metadata": {},
   "outputs": [],
   "source": [
    "X_train, X_test, y_train, y_test = train_test_split(X_, y_, test_size=0.33, random_state=42)"
   ]
  },
  {
   "cell_type": "markdown",
   "metadata": {},
   "source": [
    "# 1-D CNN"
   ]
  },
  {
   "cell_type": "code",
   "execution_count": 15,
   "metadata": {},
   "outputs": [],
   "source": [
    "from sklearn.metrics import confusion_matrix"
   ]
  },
  {
   "cell_type": "code",
   "execution_count": 16,
   "metadata": {},
   "outputs": [
    {
     "name": "stderr",
     "output_type": "stream",
     "text": [
      "Using TensorFlow backend.\n"
     ]
    }
   ],
   "source": [
    "import keras"
   ]
  },
  {
   "cell_type": "code",
   "execution_count": 17,
   "metadata": {},
   "outputs": [],
   "source": [
    "from keras.models import Sequential\n",
    "from keras.layers import Activation, Conv1D, AvgPool1D, BatchNormalization, LeakyReLU, Flatten, Dense, Dropout\n",
    "from keras.optimizers import Adam, SGD\n",
    "from keras import backend as K\n",
    "#from keras.losses import binary_crossentropy, MSE"
   ]
  },
  {
   "cell_type": "code",
   "execution_count": 18,
   "metadata": {},
   "outputs": [],
   "source": [
    "model = Sequential()"
   ]
  },
  {
   "cell_type": "code",
   "execution_count": 19,
   "metadata": {},
   "outputs": [],
   "source": [
    "layers = [Conv1D(8, kernel_size=7),  \n",
    "          Conv1D(16, kernel_size=3),  \n",
    "          BatchNormalization(), \n",
    "          LeakyReLU(0.2), \n",
    "          AvgPool1D(), \n",
    "          Flatten(), \n",
    "          Dense(1),\n",
    "          Activation('sigmoid')\n",
    "         ]"
   ]
  },
  {
   "cell_type": "code",
   "execution_count": 20,
   "metadata": {},
   "outputs": [],
   "source": [
    "for layer in layers:\n",
    "    model.add(layer)"
   ]
  },
  {
   "cell_type": "code",
   "execution_count": 21,
   "metadata": {},
   "outputs": [],
   "source": [
    "def w_loss(alpha=0.95):\n",
    "    def loss(y_true, y_pred):\n",
    "        return K.mean((y_true)*(alpha)*(y_pred-y_true)**2+(1-y_true)*(1-alpha)*(y_pred-y_true)**2)\n",
    "    return loss"
   ]
  },
  {
   "cell_type": "code",
   "execution_count": 22,
   "metadata": {},
   "outputs": [],
   "source": [
    "def train(opt=Adam, lr=3e-4, w_loss_alpha=0.95, epochs=2):\n",
    "    model.compile(opt(lr), w_loss(w_loss_alpha))\n",
    "    model.fit(X_train,y_train,\n",
    "              epochs=epochs,\n",
    "              batch_size=int(X_train.shape[0]/10)\n",
    "             )\n",
    "    #model.fit(X_,y_,epochs=1,batch_size=2)\n",
    "\n",
    "    y_pred = model.predict(X_test)\n",
    "    y_pred[y_pred>0.5]=1\n",
    "    y_pred[y_pred<=0.5]=0\n",
    "\n",
    "    cm = confusion_matrix(y_test, y_pred, labels=[0,1])\n",
    "    tn, fp, fn, tp = cm.ravel()\n",
    "    print('confusion_matrix: \\n', cm)\n",
    "    print('tn, fp, fn, tp: ', tn, fp, fn, tp)\n",
    "    print('predict label=0 判斷正確率: ', tn/(fn+tn) )\n",
    "    print('predict label=1 判斷正確率: ', tp/(tp+fp) )"
   ]
  },
  {
   "cell_type": "code",
   "execution_count": 23,
   "metadata": {},
   "outputs": [
    {
     "name": "stdout",
     "output_type": "stream",
     "text": [
      "Epoch 1/2\n",
      "201/201 [==============================] - 1s 3ms/step - loss: 0.0278\n",
      "Epoch 2/2\n",
      "201/201 [==============================] - 0s 957us/step - loss: 0.0180\n",
      "confusion_matrix: \n",
      " [[88  0]\n",
      " [11  0]]\n",
      "tn, fp, fn, tp:  88 0 11 0\n",
      "predict label=0 判斷正確率:  0.8888888888888888\n",
      "predict label=1 判斷正確率:  nan\n"
     ]
    },
    {
     "name": "stderr",
     "output_type": "stream",
     "text": [
      "c:\\users\\91463\\appdata\\local\\programs\\python\\python35\\lib\\site-packages\\ipykernel_launcher.py:18: RuntimeWarning: invalid value encountered in longlong_scalars\n"
     ]
    }
   ],
   "source": [
    "train(opt=Adam, lr=3e-4, w_loss_alpha=0.95, epochs=2)"
   ]
  },
  {
   "cell_type": "code",
   "execution_count": null,
   "metadata": {},
   "outputs": [],
   "source": [
    "train(opt=Adam, lr=3e-5, w_loss_alpha=0.95, epochs=5)"
   ]
  },
  {
   "cell_type": "code",
   "execution_count": null,
   "metadata": {},
   "outputs": [],
   "source": [
    "train(opt=Adam, lr=5e-5, w_loss_alpha=0.95, epochs=5)"
   ]
  },
  {
   "cell_type": "code",
   "execution_count": null,
   "metadata": {},
   "outputs": [],
   "source": []
  }
 ],
 "metadata": {
  "kernelspec": {
   "display_name": "Python 3",
   "language": "python",
   "name": "python3"
  },
  "language_info": {
   "codemirror_mode": {
    "name": "ipython",
    "version": 3
   },
   "file_extension": ".py",
   "mimetype": "text/x-python",
   "name": "python",
   "nbconvert_exporter": "python",
   "pygments_lexer": "ipython3",
   "version": "3.5.4"
  }
 },
 "nbformat": 4,
 "nbformat_minor": 2
}
